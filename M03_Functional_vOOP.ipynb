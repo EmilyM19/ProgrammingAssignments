{
 "cells": [
  {
   "cell_type": "code",
   "execution_count": 39,
   "id": "1d702bb8",
   "metadata": {},
   "outputs": [],
   "source": [
    "class Solution:\n",
    "    def sort012(self,arr,n):\n",
    "        low=0\n",
    "        high=n-1\n",
    "        mid=0\n",
    "        \n",
    "        while mid<=high:\n",
    "            if arr[mid]==0:\n",
    "                arr[mid] , arr[low] = arr[low] , arr[mid]\n",
    "                mid+=1\n",
    "                low+=1\n",
    "        \n",
    "            elif arr[mid]==1:\n",
    "                mid+=1\n",
    "                \n",
    "            else:\n",
    "                arr[mid] , arr[high] = arr[high] , arr[mid]\n",
    "                high-=1\n",
    "        return arr"
   ]
  },
  {
   "cell_type": "code",
   "execution_count": 37,
   "id": "6d261862",
   "metadata": {},
   "outputs": [],
   "source": [
    "class Solution:\t\n",
    "    def binarySearch(self, arr, n, k):\n",
    "        left = 0\n",
    "        right = n-1\n",
    "        while left <= right:\n",
    "            middle = (left + right) // 2\n",
    "            \n",
    "            if arr[middle] == k:\n",
    "                print((\"Element is present at index % d\" % middle))\n",
    "                return middle\n",
    "\n",
    "            elif arr[middle] < x:\n",
    "                left = middle + 1\n",
    "\n",
    "            else:\n",
    "                right = middle - 1\n",
    "        print(\"Element is not present in array\")\n",
    "        return -1"
   ]
  },
  {
   "cell_type": "code",
   "execution_count": 38,
   "id": "50328239",
   "metadata": {},
   "outputs": [
    {
     "name": "stdout",
     "output_type": "stream",
     "text": [
      "Element is present at index  3\n"
     ]
    }
   ],
   "source": [
    "#Test\n",
    "arr = [2, 3, 4, 10, 40]\n",
    "\n",
    "result = Solution().binarySearch(arr, 5, 10)"
   ]
  },
  {
   "cell_type": "code",
   "execution_count": null,
   "id": "35e38257",
   "metadata": {},
   "outputs": [],
   "source": []
  }
 ],
 "metadata": {
  "kernelspec": {
   "display_name": "Python 3 (ipykernel)",
   "language": "python",
   "name": "python3"
  },
  "language_info": {
   "codemirror_mode": {
    "name": "ipython",
    "version": 3
   },
   "file_extension": ".py",
   "mimetype": "text/x-python",
   "name": "python",
   "nbconvert_exporter": "python",
   "pygments_lexer": "ipython3",
   "version": "3.11.5"
  }
 },
 "nbformat": 4,
 "nbformat_minor": 5
}
