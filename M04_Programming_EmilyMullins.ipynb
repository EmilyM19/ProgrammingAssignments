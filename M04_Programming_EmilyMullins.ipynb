{
 "cells": [
  {
   "cell_type": "markdown",
   "id": "c172019e",
   "metadata": {},
   "source": [
    "11.1"
   ]
  },
  {
   "cell_type": "code",
   "execution_count": 4,
   "id": "43903e23",
   "metadata": {},
   "outputs": [
    {
     "name": "stdout",
     "output_type": "stream",
     "text": [
      "Open 9-5 daily\n"
     ]
    }
   ],
   "source": [
    "from zoo import hours\n",
    "hours()"
   ]
  },
  {
   "cell_type": "code",
   "execution_count": null,
   "id": "62a9c5e3",
   "metadata": {},
   "outputs": [],
   "source": [
    "11.2"
   ]
  },
  {
   "cell_type": "code",
   "execution_count": 6,
   "id": "1f091fc1",
   "metadata": {},
   "outputs": [
    {
     "name": "stdout",
     "output_type": "stream",
     "text": [
      "Open 9-5 daily\n"
     ]
    }
   ],
   "source": [
    "import zoo as menagerie \n",
    "menagerie.hours()"
   ]
  },
  {
   "cell_type": "markdown",
   "id": "fd377d0e",
   "metadata": {},
   "source": [
    "16.8"
   ]
  },
  {
   "cell_type": "code",
   "execution_count": 7,
   "id": "a8521a1e",
   "metadata": {},
   "outputs": [
    {
     "name": "stdout",
     "output_type": "stream",
     "text": [
      "[('Perdido Street Station',), ('Small Gods',), ('The Spellman Files',), ('The Weirdstone of Brisingamen',), ('Thud!',)]\n"
     ]
    }
   ],
   "source": [
    "import sqlalchemy\n",
    "from sqlalchemy import MetaData, Table\n",
    "\n",
    "engine = sqlalchemy.create_engine('sqlite:///books.db')\n",
    "connection = engine.connect()\n",
    "\n",
    "metadata = MetaData()\n",
    "book = Table('books', metadata, autoload_with=engine)\n",
    "\n",
    "query = sqlalchemy.select(book.c.title).order_by(book.c.title)\n",
    "result = connection.execute(query).fetchall()\n",
    "print([record for record in result])"
   ]
  },
  {
   "cell_type": "code",
   "execution_count": null,
   "id": "06c0d9ba",
   "metadata": {},
   "outputs": [],
   "source": []
  }
 ],
 "metadata": {
  "kernelspec": {
   "display_name": "Python 3 (ipykernel)",
   "language": "python",
   "name": "python3"
  },
  "language_info": {
   "codemirror_mode": {
    "name": "ipython",
    "version": 3
   },
   "file_extension": ".py",
   "mimetype": "text/x-python",
   "name": "python",
   "nbconvert_exporter": "python",
   "pygments_lexer": "ipython3",
   "version": "3.11.5"
  }
 },
 "nbformat": 4,
 "nbformat_minor": 5
}
